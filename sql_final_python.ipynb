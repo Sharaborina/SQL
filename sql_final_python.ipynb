{
 "cells": [
  {
   "cell_type": "code",
   "execution_count": 1,
   "metadata": {},
   "outputs": [
    {
     "name": "stdout",
     "output_type": "stream",
     "text": [
      "Collecting psycopg2\n",
      "  Downloading psycopg2-2.8.6-cp37-cp37m-win_amd64.whl (1.1 MB)\n",
      "Installing collected packages: psycopg2\n",
      "Successfully installed psycopg2-2.8.6\n"
     ]
    }
   ],
   "source": [
    "!pip install psycopg2"
   ]
  },
  {
   "cell_type": "code",
   "execution_count": 5,
   "metadata": {},
   "outputs": [],
   "source": [
    "import psycopg2\n",
    "from datetime import date\n",
    "from typing import List\n",
    "\n",
    "def start_planning(year, quarter, user, pwd):\n",
    "    con = psycopg2.connect(database='2020_plan_LSharaborina', user=user, port='5433', password=pwd, host='localhost')\n",
    "    cur = con.cursor()\n",
    "    cur.execute(\"\"\" DELETE \n",
    "                    FROM plan_data p\n",
    "                    WHERE p.quarterid = '%s.%s'\n",
    "                \"\"\", [year, quarter])\n",
    "    cur.execute(\"\"\" DELETE \n",
    "                    FROM plan_status p\n",
    "                    WHERE p.quarterid = '%s.%s'\n",
    "                \"\"\", [year, quarter])\n",
    "    cur.execute(\"\"\" INSERT into plan_status (quarterid, country, status, modifieddatetime, author)\n",
    "                    SELECT '%s.%s', country2.countrycode, 'R', current_timestamp, %s\n",
    "                    FROM country2\n",
    "                \"\"\", [year, quarter, user])\n",
    "    for status in ['N', 'P']:\n",
    "        cur.execute(\"\"\" INSERT into plan_data (versionid, country, quarterid, pcid, salesamt)\n",
    "                SELECT %s, country2.countrycode, '%s.%s', company_sales.categoryid, avg(COALESCE(company_sales.salesamt, 0))\n",
    "                FROM country2\n",
    "                INNER JOIN company on country2.countrycode = company.countrycode\n",
    "                INNER JOIN company_sales on company.id = company_sales.cid\n",
    "                where company_sales.qr = '%s.%s'\n",
    "                GROUP BY 2, 4\n",
    "                \"\"\", [status, year, quarter, year, quarter])\n",
    "    \n",
    "# #     cur.itersize = 1\n",
    "#     for record in cur:\n",
    "# #         print(record[0], record[1], record[2])\n",
    "#         print(record)\n",
    "#     record = cur.fetchone()\n",
    "#     while record:\n",
    "#         print(record)\n",
    "#         record = cur.fetchone()\n",
    "    con.commit()\n",
    "    con.close()\n",
    "\n",
    "start_planning(2014, 1, 'ivan', 'sql3')\n",
    "\n"
   ]
  }
 ],
 "metadata": {
  "kernelspec": {
   "display_name": "Python 3",
   "language": "python",
   "name": "python3"
  },
  "language_info": {
   "codemirror_mode": {
    "name": "ipython",
    "version": 3
   },
   "file_extension": ".py",
   "mimetype": "text/x-python",
   "name": "python",
   "nbconvert_exporter": "python",
   "pygments_lexer": "ipython3",
   "version": "3.7.6"
  }
 },
 "nbformat": 4,
 "nbformat_minor": 4
}
